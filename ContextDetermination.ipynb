{
 "cells": [
  {
   "cell_type": "markdown",
   "id": "949925e0-1ee8-42c8-b15a-7eaecacad1f6",
   "metadata": {},
   "source": [
    "# Context Determination\n",
    "As a suplement to the paper \"Enhanced Online Grooming Detection Employing Context Determination and Message-Level Analysis\" by Jake Street, Isibor Ihianle, Fuminiyi Olajide, and Ahmad Lotfi"
   ]
  },
  {
   "cell_type": "markdown",
   "id": "af9e3f69",
   "metadata": {},
   "source": [
    "To use this code you will need to have a list of one or more dictionaries. With these dictionaries containing your determinations (deters), author (authors) labels, and Online Grooming label (OGs) which denotes a valid AC context:\n",
    "- Valid values for deters are: 1 <= n <= 0. (deters close to 1 represent an Adult message line prediction, whereas deters close to 0 represent a Child message line prediction)\n",
    "- Valid values for authors are: 1 or 0. (these denote which author is linked to the determination and DO NOT indicate if the author is an Adult or Child actor)\n",
    "- Valid values for OGs are: 1 or 0. (1 represents an adult actor, 0 represemts a child actor).\n",
    "\n",
    "e.g. rOut = [{\"deters\":[0.9, 0.8, 0.1, 0.5, 0.2, 0.9], \"authors\":[1, 1, 0, 0, 0, 1], \"OGs\":[1, 1, 0, 1, 0, 1]}, {\"deters\":[...], \"authors\":[...], \"OGs\":[...]}]"
   ]
  },
  {
   "cell_type": "code",
   "execution_count": null,
   "id": "454667d3-0e9c-4df3-865c-15ef936990d3",
   "metadata": {},
   "outputs": [],
   "source": [
    "import pickle\n",
    "import numpy as np\n",
    "import scipy"
   ]
  },
  {
   "cell_type": "code",
   "execution_count": null,
   "id": "f6284f3a-9a04-409b-8a4e-65ae88c2797b",
   "metadata": {},
   "outputs": [],
   "source": [
    "def binMLA(rOut, thresh): # This shall only be tested in A-C context at\n",
    "    correct = 0\n",
    "    incorrectA = 0\n",
    "    incorrectC = 0\n",
    "    ommit = 0\n",
    "    for d in rOut:\n",
    "        deters = list(d[\"deters\"])\n",
    "        auths = d[\"authors\"]\n",
    "        if \"1\" in auths or 1 in auths:\n",
    "            for count in range(0, len(deters)):\n",
    "                tempDeter = deters[count]\n",
    "                tempAuth = auths[count]\n",
    "                if tempDeter > (0.5 + thresh): # A determined\n",
    "                    if str(tempAuth) == \"1\":\n",
    "                        correct = correct + 1\n",
    "                    else:\n",
    "                        incorrectA = incorrectA + 1\n",
    "                elif tempDeter < (0.5 - thresh):\n",
    "                    if str(tempAuth) == \"0\":\n",
    "                        correct = correct + 1\n",
    "                    else:\n",
    "                        incorrectC = incorrectC + 1\n",
    "                else:\n",
    "                    ommit = ommit + 1\n",
    "    return [correct, incorrectA, incorrectC, ommit]\n"
   ]
  },
  {
   "cell_type": "code",
   "execution_count": null,
   "id": "29c072a8-3080-4d15-9236-4788e0c7d23b",
   "metadata": {},
   "outputs": [],
   "source": [
    "def pCalc(l):\n",
    "    isA = False\n",
    "    std = np.std(l)\n",
    "    mean = np.mean(l)\n",
    "    u0 = 0.5\n",
    "    sample = len(l)\n",
    "    if mean > 0.5:\n",
    "        isA = True\n",
    "    T = ((mean - u0) / std) * np.sqrt(sample) # T score\n",
    "    pval = scipy.stats.t.sf(np.abs(T), sample-1)*2 # P value\n",
    "    return pval, isA\n"
   ]
  },
  {
   "cell_type": "markdown",
   "id": "0afc6dec-a36e-4196-8c47-5cf61f6d0431",
   "metadata": {},
   "source": [
    "## Get Message Level Analysis Results"
   ]
  },
  {
   "cell_type": "code",
   "execution_count": null,
   "id": "51592587-7eee-4091-bab7-a9f9b59a7403",
   "metadata": {},
   "outputs": [],
   "source": [
    "thresh = 0.2 # t value to be used to generate results\n",
    "path = \"\" # path to your pickle file (list of dictionaries as described above)"
   ]
  },
  {
   "cell_type": "code",
   "execution_count": null,
   "id": "583d85b1-5e99-478b-8b2c-c664064d522f",
   "metadata": {},
   "outputs": [],
   "source": [
    "with open(path, \"rb\") as resultPkl:\n",
    "    rOut = pickle.load(resultPkl)\n",
    "a = binMLA(rOut, thresh)\n",
    "# print(a)\n",
    "print(a[0]/(a[0]+a[1]+a[2])) # calc accuracy"
   ]
  },
  {
   "cell_type": "markdown",
   "id": "1fbc1cf1-95ba-4b04-a252-c972eff91548",
   "metadata": {},
   "source": [
    "## Get Context Determination Results"
   ]
  },
  {
   "cell_type": "code",
   "execution_count": null,
   "id": "5e8df646-2c3c-40fe-825e-f6cfdaeabf16",
   "metadata": {},
   "outputs": [],
   "source": [
    "with open(path, \"rb\") as resultPkl:\n",
    "    rOut = pickle.load(resultPkl)\n",
    "\n",
    "# Options\n",
    "\n",
    "mesThreshList = [0, 0.1, 0.2, 0.3, 0.4] # t values to be tested\n",
    "sigThreshList = [0.001, 0.01, 0.05] # ASTs to be tested\n",
    "\n",
    "qFile = open(\"nameOfResultsFile.csv\", \"w\")\n",
    "\n",
    "for sigThresh in sigThreshList:\n",
    "    for mesThresh in mesThreshList:\n",
    "        correctACog = 0\n",
    "        incorrectACog = 0\n",
    "        correctNegative = 0\n",
    "        incorrectNegative = 0\n",
    "        for transcript in rOut:\n",
    "            OGs = transcript[\"OGs\"]\n",
    "            Authors = transcript[\"authors\"]\n",
    "            deters = transcript[\"deters\"]\n",
    "            actorA = []\n",
    "            actorB = []\n",
    "            for count in range(0, len(Authors)):\n",
    "                tempAuth = Authors[count]\n",
    "                tempDeter = deters[count]\n",
    "                if tempAuth == 1 and (tempDeter > 0.5 + mesThresh or tempDeter < 0.5 - mesThresh):\n",
    "                    actorA.append(tempDeter)\n",
    "                elif tempAuth == 0 and (tempDeter > 0.5 + mesThresh or tempDeter < 0.5 - mesThresh):\n",
    "                    actorB.append(tempDeter)\n",
    "            aPval, aIsA = pCalc(actorA)\n",
    "            bPval, bIsA = pCalc(actorB)\n",
    "            if 1 in OGs:\n",
    "                if (aPval < sigThresh and bPval < sigThresh) and ((aIsA == True and bIsA == False) or (aIsA == False and bIsA == True)):\n",
    "                    correctACog = correctACog + 1\n",
    "                else:\n",
    "                    incorrectNegative = incorrectNegative + 1\n",
    "            else:\n",
    "                if (aPval < sigThresh and bPval < sigThresh) and ((aIsA == True and bIsA == False) or (aIsA == False and bIsA == True)):\n",
    "                    incorrectACog = incorrectACog + 1\n",
    "                else:\n",
    "                    correctNegative = correctNegative + 1\n",
    "        lineToWrite = str(correctACog)+\",\"+str(incorrectACog)+\",\"+str(correctNegative)+\",\"+str(incorrectNegative)+\"\\n\"\n",
    "        qFile.write(lineToWrite)\n",
    "qFile.close()\n",
    "\n"
   ]
  }
 ],
 "metadata": {
  "kernelspec": {
   "display_name": "Python 3 (ipykernel)",
   "language": "python",
   "name": "python3"
  },
  "language_info": {
   "codemirror_mode": {
    "name": "ipython",
    "version": 3
   },
   "file_extension": ".py",
   "mimetype": "text/x-python",
   "name": "python",
   "nbconvert_exporter": "python",
   "pygments_lexer": "ipython3",
   "version": "3.9.18"
  }
 },
 "nbformat": 4,
 "nbformat_minor": 5
}
